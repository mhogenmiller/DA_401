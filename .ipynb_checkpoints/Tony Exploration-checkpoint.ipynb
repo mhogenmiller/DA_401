{
 "cells": [
  {
   "cell_type": "code",
   "execution_count": 44,
   "metadata": {},
   "outputs": [
    {
     "data": {
      "text/plain": [
       "['Spring Awakening',\n",
       " 'In The Heights',\n",
       " 'Billy Elliot: The Musical',\n",
       " 'Memphis',\n",
       " 'The Book Of Mormon',\n",
       " 'Once',\n",
       " 'Kinky Boots',\n",
       " \"A Gentleman'S  Guide to Love and Murder\",\n",
       " 'Fun Home',\n",
       " 'Hamilton (musical)']"
      ]
     },
     "execution_count": 44,
     "metadata": {},
     "output_type": "execute_result"
    }
   ],
   "source": [
    "import pandas as pd\n",
    "import matplotlib.pyplot as plt\n",
    "import numpy as np\n",
    "import os\n",
    "tony = pd.read_csv('/Users/morganhogenmiller/Desktop/DA 401/Data sets/Tonywinsm.csv') # read in Tony data\n",
    "Broadway_Original = pd.read_csv('/Users/morganhogenmiller/Desktop/DA 401/Data sets/broadway(corgi).csv') #Read in CORGI data set\n",
    "\n",
    "Google_Parameters= Broadway_Original[['Name','Year','Month','Day','Type']] #Reduce data set to variables to input into GT\n",
    "\n",
    "#Filter to shows after 2007 only\n",
    "Google_Parameters=Google_Parameters.loc[Google_Parameters['Year']>2007] \n",
    "Google_Parameters=Google_Parameters.loc[Google_Parameters['Type']=='Musical']\n",
    "\n",
    "#Provides a list of shows in form needed for function \n",
    "show_list=list(Google_Parameters.Name.unique()) \n",
    "show_list.sort() #in alphabetical order\n",
    "show_list.remove('Les Misrables 2006')\n",
    "\n",
    "list(tony.iloc[:,1])\n",
    "#show_list"
   ]
  },
  {
   "cell_type": "code",
   "execution_count": 65,
   "metadata": {},
   "outputs": [
    {
     "name": "stdout",
     "output_type": "stream",
     "text": [
      "Billy Elliot: The Musical\n",
      "Fun Home\n",
      "Hamilton (musical)\n",
      "In The Heights\n",
      "Kinky Boots\n",
      "Memphis\n",
      "Once\n",
      "Spring Awakening\n",
      "The Book Of Mormon\n"
     ]
    },
    {
     "data": {
      "text/plain": [
       "[('Billy Elliot: The Musical', 1),\n",
       " ('Fun Home', 1),\n",
       " ('Hamilton (musical)', 1),\n",
       " ('In The Heights', 1),\n",
       " ('Kinky Boots', 1),\n",
       " ('Memphis', 1),\n",
       " ('Once', 1),\n",
       " ('Spring Awakening', 1),\n",
       " ('The Book Of Mormon', 1)]"
      ]
     },
     "execution_count": 65,
     "metadata": {},
     "output_type": "execute_result"
    }
   ],
   "source": [
    "showcounts=[]\n",
    "starter=1\n",
    "for i in show_list:\n",
    "    hey=[]\n",
    "    if i not in list(tony.iloc[:,1] or tony.iloc[:,2] or tony.iloc[:,3] or tony.iloc[:,4] or tony.iloc[:,5] or tony.iloc[:,6] ): #add 1 for best musical winners\n",
    "        showcounts.append((0))\n",
    "        print(i)\n",
    "    if i in list(tony.iloc[:,1]): #add 1 for best musical winners\n",
    "        showcounts.append(starter)\n",
    "        print(i)\n",
    "    if i in list(tony.iloc[:,2]): #add 1 for best revival winners\n",
    "        showcounts.append(1)\n",
    "        #print(i)\n",
    "    #if i in list(tony.iloc[:,3]): #add 1 for best director winners\n",
    "       # listy=listy.append((i,1))\n",
    "       # print(i)\n",
    "    #if i in list(tony.iloc[:,4]): #add 1 for best actress winners\n",
    "        #listy=listy.append((i,1))\n",
    "        #print(i)\n",
    "   # if i in list(tony.iloc[:,5]): #add 1 for best actor winners\n",
    "       # listy=listy.append((i,1))\n",
    "       # print(i)\n",
    "listy"
   ]
  }
 ],
 "metadata": {
  "kernelspec": {
   "display_name": "Python 3",
   "language": "python",
   "name": "python3"
  },
  "language_info": {
   "codemirror_mode": {
    "name": "ipython",
    "version": 3
   },
   "file_extension": ".py",
   "mimetype": "text/x-python",
   "name": "python",
   "nbconvert_exporter": "python",
   "pygments_lexer": "ipython3",
   "version": "3.6.1"
  }
 },
 "nbformat": 4,
 "nbformat_minor": 2
}
