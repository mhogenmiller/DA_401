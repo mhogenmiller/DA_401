{
 "cells": [
  {
   "cell_type": "code",
   "execution_count": 1,
   "metadata": {
    "collapsed": true
   },
   "outputs": [],
   "source": [
    "#Import necessary packages\n",
    "import pandas as pd\n",
    "#from pandas import ExcelWriter\n",
    "#from pandas import ExcelFile\n",
    "import re\n",
    "import matplotlib.pyplot as plt"
   ]
  },
  {
   "cell_type": "code",
   "execution_count": 2,
   "metadata": {
    "collapsed": true
   },
   "outputs": [],
   "source": [
    "Broadway_Original = pd.read_csv('/Users/morganhogenmiller/Desktop/DA 401/Data sets/broadway(corgi).csv') #Read in CORGI data set"
   ]
  },
  {
   "cell_type": "code",
   "execution_count": 3,
   "metadata": {
    "collapsed": true
   },
   "outputs": [],
   "source": [
    "Google_Parameters= Broadway_Original[['Name','Year','Month','Day','Type']] #Reduce data set to variables to input into GT\n",
    "\n",
    "#Filter to shows after 2010 only\n",
    "Google_Parameters=Google_Parameters.loc[Google_Parameters['Year']>2010] \n",
    "Google_Parameters=Google_Parameters.loc[Google_Parameters['Type']=='Musical'] \n",
    "\n",
    "\n",
    "#Number of weeks each show was on Broadway\n",
    "Name_Counts=pd.DataFrame(Google_Parameters['Name'].value_counts()) \n",
    "Name_Counts=Name_Counts.loc[Name_Counts['Name']> 5] \n",
    "#Name_Counts"
   ]
  },
  {
   "cell_type": "code",
   "execution_count": 4,
   "metadata": {},
   "outputs": [
    {
     "data": {
      "image/png": "[encoded data removed]",
      "text/plain": [
       "<Figure size 432x288 with 1 Axes>"
      ]
     },
     "metadata": {},
     "output_type": "display_data"
    }
   ],
   "source": [
    "#Distribution of the number of weeks shows are on Broadway\n",
    "Name_Counts['Name'].hist()\n",
    "plt.show()"
   ]
  },
  {
   "cell_type": "code",
   "execution_count": 5,
   "metadata": {
    "collapsed": true
   },
   "outputs": [],
   "source": [
    "#Provides a list of shows in form needed for function \n",
    "show_list=list(Google_Parameters.Name.unique()) \n",
    "show_list.sort() #in alphabetical order"
   ]
  },
  {
   "cell_type": "code",
   "execution_count": 7,
   "metadata": {
    "collapsed": true
   },
   "outputs": [],
   "source": [
    "#Finds opening and closing instances in the data\n",
    "\n",
    "#Sort Google Paramters by Name\n",
    "#Google_Parameters.sort_values(by=['Name'])\n",
    "\n",
    "First_Dates=Google_Parameters.drop_duplicates(['Name'],keep='first') #Opening\n",
    "First_Dates=First_Dates.sort_values('Name')\n",
    "Last_Dates=Google_Parameters.drop_duplicates(['Name'],keep='last') #Closing (or last available data)\n",
    "Last_Dates=Last_Dates.sort_values('Name')"
   ]
  },
  {
   "cell_type": "code",
   "execution_count": 9,
   "metadata": {
    "collapsed": true
   },
   "outputs": [],
   "source": [
    "#Made first and last days the same by changing first to last so that the monthly calsumation will not go awry below\n",
    "dates_same=list(Last_Dates['Day'])#Last_Dates\n",
    "\n",
    "First_Dates.drop(['Day'],axis=1)\n",
    "First_Dates['Day']= dates_same\n",
    "#First_Dates\n",
    "#Last_Dates"
   ]
  },
  {
   "cell_type": "code",
   "execution_count": 10,
   "metadata": {
    "collapsed": true
   },
   "outputs": [],
   "source": [
    "#Breaks opening and closing into data, month, and year lists\n",
    "yr_list=list(First_Dates['Year']) #Opening \n",
    "mth_list=list(First_Dates['Month'])\n",
    "dt_list=list(First_Dates['Day'])\n",
    "\n",
    "\n",
    "lastyr_list=list(Last_Dates['Year']) #Closing\n",
    "lastmth_list=list(Last_Dates['Month'])\n",
    "lastdt_list=list(Last_Dates['Day'])\n",
    "\n",
    "#lastyr_list"
   ]
  },
  {
   "cell_type": "code",
   "execution_count": 11,
   "metadata": {},
   "outputs": [
    {
     "name": "stdout",
     "output_type": "stream",
     "text": [
      "Requirement already satisfied: pytrends in /Users/morganhogenmiller/anaconda/lib/python3.6/site-packages (4.4.0)\n",
      "Requirement already satisfied: lxml in /Users/morganhogenmiller/anaconda/lib/python3.6/site-packages (from pytrends) (3.7.3)\n",
      "Requirement already satisfied: requests in /Users/morganhogenmiller/anaconda/lib/python3.6/site-packages (from pytrends) (2.18.4)\n",
      "Requirement already satisfied: pandas in /Users/morganhogenmiller/anaconda/lib/python3.6/site-packages (from pytrends) (0.20.1)\n",
      "Requirement already satisfied: urllib3<1.23,>=1.21.1 in /Users/morganhogenmiller/anaconda/lib/python3.6/site-packages (from requests->pytrends) (1.22)\n",
      "Requirement already satisfied: certifi>=2017.4.17 in /Users/morganhogenmiller/anaconda/lib/python3.6/site-packages (from requests->pytrends) (2018.4.16)\n",
      "Requirement already satisfied: idna<2.7,>=2.5 in /Users/morganhogenmiller/anaconda/lib/python3.6/site-packages (from requests->pytrends) (2.6)\n",
      "Requirement already satisfied: chardet<3.1.0,>=3.0.2 in /Users/morganhogenmiller/anaconda/lib/python3.6/site-packages (from requests->pytrends) (3.0.4)\n",
      "Requirement already satisfied: python-dateutil>=2 in /Users/morganhogenmiller/anaconda/lib/python3.6/site-packages (from pandas->pytrends) (2.6.1)\n",
      "Requirement already satisfied: pytz>=2011k in /Users/morganhogenmiller/anaconda/lib/python3.6/site-packages (from pandas->pytrends) (2017.2)\n",
      "Requirement already satisfied: numpy>=1.7.0 in /Users/morganhogenmiller/anaconda/lib/python3.6/site-packages (from pandas->pytrends) (1.14.3)\n",
      "Requirement already satisfied: six>=1.5 in /Users/morganhogenmiller/anaconda/lib/python3.6/site-packages (from python-dateutil>=2->pandas->pytrends) (1.11.0)\n"
     ]
    }
   ],
   "source": [
    "!pip install pytrends #installing the pytrends package\n",
    "\n",
    "#Make into a function so that it works with many shows and dates \n",
    "#Add the show as a column\n",
    "#Ultimate goal is to get it into the OG data set"
   ]
  },
  {
   "cell_type": "code",
   "execution_count": 12,
   "metadata": {
    "collapsed": true
   },
   "outputs": [],
   "source": [
    "from pytrends.request import TrendReq #import necessary packages\n",
    "pytrend = TrendReq(hl='en-US', tz=360) #define "
   ]
  },
  {
   "cell_type": "raw",
   "metadata": {
    "collapsed": true
   },
   "source": [
    "from datetime import datetime, timedelta\n",
    "import pandas as pd\n",
    "import numpy as np\n",
    "\n",
    "def monthly_gsearches(show_list,yr_list,mth_list,dt_list,lastyr_list,lastmth_list):\n",
    "    \"\"\"\n",
    "    This function takes a show name, the year, month, and day that the show opened and \n",
    "    the year and month that it closed to output the number of Google searches, based\n",
    "    upon Google Trends' search over time metric, the show receives monthly.\n",
    "    \"\"\"\n",
    "\n",
    "    for i in show_list:\n",
    "   \n",
    "\n",
    "        kw_list = [i] #can increase/decrease the list size \n",
    "        num_keywords = 1 #change this if you increase/decrease the list size\n",
    "\n",
    "        #initialize date...ALSO NEEDS CHANGED \n",
    "        for m in range(len(show_list)):\n",
    "            year = yr_list[m]\n",
    "            month = mth_list[m]\n",
    "            date = dt_list[m]\n",
    "            new_date = datetime(yr_list[m], mth_list[m], dt_list[m]).date()\n",
    "\n",
    "\n",
    "            # Name excel sheet the key word\n",
    "            writer = pd.ExcelWriter(''.join([i,'1','.xlsx']))\n",
    "            col = 1\n",
    "\n",
    "            while(1):\n",
    "\n",
    "              old_date = new_date  \n",
    "              if(int(month/12) > 0):\n",
    "                year = year+1\n",
    "              month = (month+1)%13\n",
    "              if(month==0):\n",
    "                month += 1\n",
    "              new_date = datetime(year,month,date).date()\n",
    "\n",
    "              # Year and Month till you need the output...for right now, not looking at current data\n",
    "              #If you set month to 13, it goes until current day..good to note...will work for the shows that are still running\n",
    "              if(year ==lastyr_list[m] and month == lastmth_list[m]): #NEEDS CHANGED\n",
    "                break\n",
    "\n",
    "              timeframe = old_date.strftime('%Y-%m-%d')+' '+ new_date.strftime('%Y-%m-%d')\n",
    "              print(\"DATE:\",timeframe)\n",
    "\n",
    "              pytrend.build_payload(kw_list, cat=0, timeframe = timeframe,geo='US', gprop='')\n",
    "\n",
    "              # Interest over time in one year\n",
    "              data= pytrend.interest_over_time()\n",
    "              df=pd.DataFrame({'mean':[np.mean(data[data.columns[0]])]})\n",
    "              mean=np.mean(data[data.columns[0]])\n",
    "              #print(df)\n",
    "              print(\"\\n\\n\")\n",
    "\n",
    "              ## WRITE THE DATA IN AN EXCEL SHEET\n",
    "\n",
    "              # Change the names of the columns in the data set to have show name and date\n",
    "             # data = data.rename(columns={i: ' '.join([i, old_date.strftime('%Y-%m-%d')])}) #original\n",
    "              data = df.rename(columns={'mean': ' '.join([i, old_date.strftime('%Y-%m-%d')])})\n",
    "              print(data)\n",
    "\n",
    "              #data=data.transpose()\n",
    "              #print(\"List of columns:\",list(data.columns.values))\n",
    "              #print(\"Data size:\", data.shape)\n",
    "              if(col==1):\n",
    "                  data.to_excel(writer,'sheet1',index=True ,startcol = col-1)\n",
    "              data.to_excel(writer,'sheet1',index=False ,startcol = col)\n",
    "              col = col + num_keywords\n",
    "            writer.save() "
   ]
  },
  {
   "cell_type": "code",
   "execution_count": 13,
   "metadata": {
    "collapsed": true
   },
   "outputs": [],
   "source": [
    "#monthly_gsearches(['A Christmas Story','Hamilton'],[2012,2016],[11,2],[18,3],[2013,2017],[2,1]) #list of all the shows and dates\n",
    "#WORK TO GET THIS FROM CORGI\n",
    "\n",
    "#Get all of the starting dates from the other data set so that you don't have to enter them manually and run the function\n",
    "#as many times as there \n",
    "\n",
    "\n",
    "#Dates are not printing out in monthly order and the ranges are messed up# after you figure out why, should be good\n",
    "#pilot with a few observations\n",
    "#each one is going to the same end points...something about the loop\n"
   ]
  },
  {
   "cell_type": "code",
   "execution_count": 14,
   "metadata": {
    "collapsed": true
   },
   "outputs": [],
   "source": [
    "from datetime import datetime, timedelta\n",
    "import pandas as pd\n",
    "import numpy as np\n",
    "\n",
    "def monthly_gsearches(show,year,month,date,lastyear,lastmonth):\n",
    "    \"\"\"\n",
    "    This function takes a show name, the year, month, and day that the show opened and \n",
    "    the year and month that it closed to output the number of Google searches, based\n",
    "    upon Google Trends' search over time metric, the show receives monthly.\n",
    "    \"\"\"\n",
    "\n",
    "\n",
    "   \n",
    "\n",
    "    kw_list = [show] #can increase/decrease the list size \n",
    "    num_keywords = 1 #change this if you increase/decrease the list size\n",
    "\n",
    "        #initialize date...ALSO NEEDS CHANGED \n",
    "          #for m in range(len(show_list)):\n",
    "    year = year\n",
    "    print(year)\n",
    "    month = month\n",
    "    print(month)\n",
    "    date = date\n",
    "    print(date)\n",
    "    new_date = datetime(year, month, date).date()\n",
    "\n",
    "            # Name excel sheet the key word\n",
    "    writer = pd.ExcelWriter(''.join([show,'1','.xlsx']))\n",
    "    col = 1\n",
    "\n",
    "    while(1):\n",
    "\n",
    "            \n",
    "        old_date = new_date  \n",
    "        if(int(month/12) > 0):\n",
    "            year = year+1\n",
    "        month = (month+1)%13\n",
    "        if(month==0):\n",
    "            month += 1\n",
    "            new_date = datetime(year,month,date).date()\n",
    "\n",
    "              # Year and Month till you need the output...for right now, not looking at current data\n",
    "              #If you set month to 13, it goes until current day..good to note...will work for the shows that are still running\n",
    "        if(year ==lastyear and month == lastmonth): #NEEDS CHANGED\n",
    "            break\n",
    "\n",
    "        timeframe = old_date.strftime('%Y-%m-%d')+' '+ new_date.strftime('%Y-%m-%d')\n",
    "        print(\"DATE:\",timeframe)\n",
    "\n",
    "        pytrend.build_payload(kw_list, cat=0, timeframe = timeframe,geo='US', gprop='')\n",
    "\n",
    "         # Interest over time in one year\n",
    "        data= pytrend.interest_over_time()\n",
    "        df=pd.DataFrame({'mean':[np.mean(data[data.columns[0]])]})\n",
    "        mean=np.mean(data[data.columns[0]])\n",
    "              #print(df)\n",
    "        print(\"\\n\\n\")\n",
    "\n",
    "              ## WRITE THE DATA IN AN EXCEL SHEET\n",
    "\n",
    "              # Change the names of the columns in the data set to have show name and date\n",
    "             # data = data.rename(columns={i: ' '.join([i, old_date.strftime('%Y-%m-%d')])}) #original\n",
    "        data = df.rename(columns={'mean': ' '.join([show, old_date.strftime('%Y-%m-%d')])})\n",
    "        print(data)\n",
    "\n",
    "              #data=data.transpose()\n",
    "              #print(\"List of columns:\",list(data.columns.values))\n",
    "              #print(\"Data size:\", data.shape)\n",
    "        if(col==1):\n",
    "            data.to_excel(writer,'sheet1',index=True ,startcol = col-1)\n",
    "        data.to_excel(writer,'sheet1',index=False ,startcol = col)\n",
    "        col = col + num_keywords\n",
    "    writer.save() "
   ]
  },
  {
   "cell_type": "code",
   "execution_count": 17,
   "metadata": {},
   "outputs": [
    {
     "name": "stdout",
     "output_type": "stream",
     "text": [
      "2016\n",
      "3\n",
      "4\n",
      "DATE: 2016-03-04 2016-03-04\n",
      "\n",
      "\n",
      "\n",
      "   Hamilton 2016-03-04\n",
      "0                100.0\n",
      "DATE: 2016-03-04 2016-03-04\n",
      "\n",
      "\n",
      "\n",
      "   Hamilton 2016-03-04\n",
      "0                100.0\n",
      "DATE: 2016-03-04 2016-03-04\n",
      "\n",
      "\n",
      "\n",
      "   Hamilton 2016-03-04\n",
      "0                100.0\n",
      "DATE: 2016-03-04 2016-03-04\n",
      "\n",
      "\n",
      "\n",
      "   Hamilton 2016-03-04\n",
      "0                100.0\n",
      "DATE: 2016-03-04 2016-03-04\n",
      "\n",
      "\n",
      "\n",
      "   Hamilton 2016-03-04\n",
      "0                100.0\n",
      "DATE: 2016-03-04 2016-03-04\n",
      "\n",
      "\n",
      "\n",
      "   Hamilton 2016-03-04\n",
      "0                100.0\n",
      "DATE: 2016-03-04 2016-03-04\n",
      "\n",
      "\n",
      "\n",
      "   Hamilton 2016-03-04\n",
      "0                100.0\n",
      "DATE: 2016-03-04 2016-03-04\n",
      "\n",
      "\n",
      "\n",
      "   Hamilton 2016-03-04\n",
      "0                100.0\n",
      "DATE: 2016-03-04 2016-03-04\n",
      "\n",
      "\n",
      "\n",
      "   Hamilton 2016-03-04\n",
      "0                100.0\n",
      "DATE: 2016-03-04 2017-01-04\n",
      "\n",
      "\n",
      "\n",
      "   Hamilton 2016-03-04\n",
      "0            59.863636\n",
      "DATE: 2017-01-04 2017-01-04\n",
      "\n",
      "\n",
      "\n",
      "   Hamilton 2017-01-04\n",
      "0                100.0\n"
     ]
    }
   ],
   "source": [
    "monthly_gsearches('Hamilton', 2016,3,4,2017,3)"
   ]
  },
  {
   "cell_type": "code",
   "execution_count": 15,
   "metadata": {},
   "outputs": [
    {
     "name": "stdout",
     "output_type": "stream",
     "text": [
      "2012\n",
      "11\n",
      "30\n",
      "2013\n",
      "10\n",
      "17\n",
      "DATE: 2013-10-17 2013-10-17\n",
      "\n",
      "\n",
      "\n",
      "   A Gentleman'S Guide To Love And Murder 2013-10-17\n",
      "0                                              100.0\n",
      "DATE: 2013-10-17 2013-10-17\n",
      "\n",
      "\n",
      "\n",
      "   A Gentleman'S Guide To Love And Murder 2013-10-17\n",
      "0                                              100.0\n",
      "DATE: 2013-10-17 2014-01-17\n",
      "\n",
      "\n",
      "\n",
      "   A Gentleman'S Guide To Love And Murder 2013-10-17\n",
      "0                                          23.580645\n",
      "DATE: 2014-01-17 2014-01-17\n",
      "\n",
      "\n",
      "\n",
      "   A Gentleman'S Guide To Love And Murder 2014-01-17\n",
      "0                                              100.0\n",
      "DATE: 2014-01-17 2014-01-17\n",
      "\n",
      "\n",
      "\n",
      "   A Gentleman'S Guide To Love And Murder 2014-01-17\n",
      "0                                              100.0\n",
      "DATE: 2014-01-17 2014-01-17\n",
      "\n",
      "\n",
      "\n",
      "   A Gentleman'S Guide To Love And Murder 2014-01-17\n",
      "0                                              100.0\n",
      "DATE: 2014-01-17 2014-01-17\n",
      "\n",
      "\n",
      "\n",
      "   A Gentleman'S Guide To Love And Murder 2014-01-17\n",
      "0                                              100.0\n",
      "DATE: 2014-01-17 2014-01-17\n",
      "\n",
      "\n",
      "\n",
      "   A Gentleman'S Guide To Love And Murder 2014-01-17\n",
      "0                                              100.0\n",
      "DATE: 2014-01-17 2014-01-17\n",
      "\n",
      "\n",
      "\n",
      "   A Gentleman'S Guide To Love And Murder 2014-01-17\n",
      "0                                              100.0\n",
      "DATE: 2014-01-17 2014-01-17\n",
      "\n",
      "\n",
      "\n",
      "   A Gentleman'S Guide To Love And Murder 2014-01-17\n",
      "0                                              100.0\n",
      "DATE: 2014-01-17 2014-01-17\n",
      "\n",
      "\n",
      "\n",
      "   A Gentleman'S Guide To Love And Murder 2014-01-17\n",
      "0                                              100.0\n",
      "DATE: 2014-01-17 2014-01-17\n",
      "\n",
      "\n",
      "\n",
      "   A Gentleman'S Guide To Love And Murder 2014-01-17\n",
      "0                                              100.0\n",
      "DATE: 2014-01-17 2014-01-17\n",
      "\n",
      "\n",
      "\n",
      "   A Gentleman'S Guide To Love And Murder 2014-01-17\n",
      "0                                              100.0\n",
      "DATE: 2014-01-17 2014-01-17\n",
      "\n",
      "\n",
      "\n",
      "   A Gentleman'S Guide To Love And Murder 2014-01-17\n",
      "0                                              100.0\n",
      "DATE: 2014-01-17 2015-01-17\n",
      "\n",
      "\n",
      "\n",
      "   A Gentleman'S Guide To Love And Murder 2014-01-17\n",
      "0                                          11.653846\n",
      "DATE: 2015-01-17 2015-01-17\n"
     ]
    },
    {
     "ename": "IndexError",
     "evalue": "index 0 is out of bounds for axis 0 with size 0",
     "output_type": "error",
     "traceback": [
      "\u001b[0;31m---------------------------------------------------------------------------\u001b[0m",
      "\u001b[0;31mIndexError\u001b[0m                                Traceback (most recent call last)",
      "\u001b[0;32m<ipython-input-15-1b7b09ae347c>\u001b[0m in \u001b[0;36m<module>\u001b[0;34m()\u001b[0m\n\u001b[1;32m      1\u001b[0m \u001b[0;32mfor\u001b[0m \u001b[0mi\u001b[0m\u001b[0;34m,\u001b[0m\u001b[0mshow\u001b[0m \u001b[0;32min\u001b[0m \u001b[0menumerate\u001b[0m\u001b[0;34m(\u001b[0m\u001b[0mshow_list\u001b[0m\u001b[0;34m[\u001b[0m\u001b[0;36m1\u001b[0m\u001b[0;34m:\u001b[0m\u001b[0;36m3\u001b[0m\u001b[0;34m]\u001b[0m\u001b[0;34m)\u001b[0m\u001b[0;34m:\u001b[0m\u001b[0;34m\u001b[0m\u001b[0m\n\u001b[0;32m----> 2\u001b[0;31m       \u001b[0mmonthly_gsearches\u001b[0m\u001b[0;34m(\u001b[0m\u001b[0mshow_list\u001b[0m\u001b[0;34m[\u001b[0m\u001b[0mi\u001b[0m\u001b[0;34m]\u001b[0m\u001b[0;34m,\u001b[0m \u001b[0myr_list\u001b[0m\u001b[0;34m[\u001b[0m\u001b[0mi\u001b[0m\u001b[0;34m]\u001b[0m\u001b[0;34m,\u001b[0m \u001b[0mmth_list\u001b[0m\u001b[0;34m[\u001b[0m\u001b[0mi\u001b[0m\u001b[0;34m]\u001b[0m\u001b[0;34m,\u001b[0m \u001b[0mdt_list\u001b[0m\u001b[0;34m[\u001b[0m\u001b[0mi\u001b[0m\u001b[0;34m]\u001b[0m\u001b[0;34m,\u001b[0m \u001b[0mlastyr_list\u001b[0m\u001b[0;34m[\u001b[0m\u001b[0mi\u001b[0m\u001b[0;34m]\u001b[0m\u001b[0;34m,\u001b[0m\u001b[0mlastmth_list\u001b[0m\u001b[0;34m[\u001b[0m\u001b[0mi\u001b[0m\u001b[0;34m]\u001b[0m\u001b[0;34m)\u001b[0m\u001b[0;34m\u001b[0m\u001b[0m\n\u001b[0m",
      "\u001b[0;32m<ipython-input-14-fc4ccc7c794b>\u001b[0m in \u001b[0;36mmonthly_gsearches\u001b[0;34m(show, year, month, date, lastyear, lastmonth)\u001b[0m\n\u001b[1;32m     53\u001b[0m          \u001b[0;31m# Interest over time in one year\u001b[0m\u001b[0;34m\u001b[0m\u001b[0;34m\u001b[0m\u001b[0m\n\u001b[1;32m     54\u001b[0m         \u001b[0mdata\u001b[0m\u001b[0;34m=\u001b[0m \u001b[0mpytrend\u001b[0m\u001b[0;34m.\u001b[0m\u001b[0minterest_over_time\u001b[0m\u001b[0;34m(\u001b[0m\u001b[0;34m)\u001b[0m\u001b[0;34m\u001b[0m\u001b[0m\n\u001b[0;32m---> 55\u001b[0;31m         \u001b[0mdf\u001b[0m\u001b[0;34m=\u001b[0m\u001b[0mpd\u001b[0m\u001b[0;34m.\u001b[0m\u001b[0mDataFrame\u001b[0m\u001b[0;34m(\u001b[0m\u001b[0;34m{\u001b[0m\u001b[0;34m'mean'\u001b[0m\u001b[0;34m:\u001b[0m\u001b[0;34m[\u001b[0m\u001b[0mnp\u001b[0m\u001b[0;34m.\u001b[0m\u001b[0mmean\u001b[0m\u001b[0;34m(\u001b[0m\u001b[0mdata\u001b[0m\u001b[0;34m[\u001b[0m\u001b[0mdata\u001b[0m\u001b[0;34m.\u001b[0m\u001b[0mcolumns\u001b[0m\u001b[0;34m[\u001b[0m\u001b[0;36m0\u001b[0m\u001b[0;34m]\u001b[0m\u001b[0;34m]\u001b[0m\u001b[0;34m)\u001b[0m\u001b[0;34m]\u001b[0m\u001b[0;34m}\u001b[0m\u001b[0;34m)\u001b[0m\u001b[0;34m\u001b[0m\u001b[0m\n\u001b[0m\u001b[1;32m     56\u001b[0m         \u001b[0mmean\u001b[0m\u001b[0;34m=\u001b[0m\u001b[0mnp\u001b[0m\u001b[0;34m.\u001b[0m\u001b[0mmean\u001b[0m\u001b[0;34m(\u001b[0m\u001b[0mdata\u001b[0m\u001b[0;34m[\u001b[0m\u001b[0mdata\u001b[0m\u001b[0;34m.\u001b[0m\u001b[0mcolumns\u001b[0m\u001b[0;34m[\u001b[0m\u001b[0;36m0\u001b[0m\u001b[0;34m]\u001b[0m\u001b[0;34m]\u001b[0m\u001b[0;34m)\u001b[0m\u001b[0;34m\u001b[0m\u001b[0m\n\u001b[1;32m     57\u001b[0m               \u001b[0;31m#print(df)\u001b[0m\u001b[0;34m\u001b[0m\u001b[0;34m\u001b[0m\u001b[0m\n",
      "\u001b[0;32m/Users/morganhogenmiller/anaconda/lib/python3.6/site-packages/pandas/core/indexes/base.py\u001b[0m in \u001b[0;36m__getitem__\u001b[0;34m(self, key)\u001b[0m\n\u001b[1;32m   1637\u001b[0m \u001b[0;34m\u001b[0m\u001b[0m\n\u001b[1;32m   1638\u001b[0m         \u001b[0;32mif\u001b[0m \u001b[0mis_scalar\u001b[0m\u001b[0;34m(\u001b[0m\u001b[0mkey\u001b[0m\u001b[0;34m)\u001b[0m\u001b[0;34m:\u001b[0m\u001b[0;34m\u001b[0m\u001b[0m\n\u001b[0;32m-> 1639\u001b[0;31m             \u001b[0;32mreturn\u001b[0m \u001b[0mgetitem\u001b[0m\u001b[0;34m(\u001b[0m\u001b[0mkey\u001b[0m\u001b[0;34m)\u001b[0m\u001b[0;34m\u001b[0m\u001b[0m\n\u001b[0m\u001b[1;32m   1640\u001b[0m \u001b[0;34m\u001b[0m\u001b[0m\n\u001b[1;32m   1641\u001b[0m         \u001b[0;32mif\u001b[0m \u001b[0misinstance\u001b[0m\u001b[0;34m(\u001b[0m\u001b[0mkey\u001b[0m\u001b[0;34m,\u001b[0m \u001b[0mslice\u001b[0m\u001b[0;34m)\u001b[0m\u001b[0;34m:\u001b[0m\u001b[0;34m\u001b[0m\u001b[0m\n",
      "\u001b[0;31mIndexError\u001b[0m: index 0 is out of bounds for axis 0 with size 0"
     ]
    }
   ],
   "source": [
    "for i,show in enumerate(show_list[1:3]):\n",
    "      monthly_gsearches(show_list[i], yr_list[i], mth_list[i], dt_list[i], lastyr_list[i],lastmth_list[i])"
   ]
  },
  {
   "cell_type": "code",
   "execution_count": null,
   "metadata": {
    "collapsed": true
   },
   "outputs": [],
   "source": [
    "monthly_gsearches(show_list,yr_list,mth_list,dt_list,lastyr_list,lastmth_list) #list of all the shows and dates\n",
    "#WORK TO GET THIS FROM CORGI\n",
    "\n",
    "#Get all of the starting dates from the other data set so that you don't have to enter them manually and run the function\n",
    "#as many times as there \n",
    "\n",
    "#Dates are not printing out in monthly order and the ranges are messed up# after you figure out why, should be good\n",
    "#pilot with a few observations\n",
    "#each one is going to the same end points...something about the loop\n"
   ]
  },
  {
   "cell_type": "code",
   "execution_count": null,
   "metadata": {
    "collapsed": true
   },
   "outputs": [],
   "source": []
  },
  {
   "cell_type": "markdown",
   "metadata": {},
   "source": [
    "## https://www.youtube.com/watch?v=XyfCVg677Bk ## \n",
    "## look at this for getting the sentiment analysis ##"
   ]
  }
 ],
 "metadata": {
  "kernelspec": {
   "display_name": "Python 3",
   "language": "python",
   "name": "python3"
  },
  "language_info": {
   "codemirror_mode": {
    "name": "ipython",
    "version": 3
   },
   "file_extension": ".py",
   "mimetype": "text/x-python",
   "name": "python",
   "nbconvert_exporter": "python",
   "pygments_lexer": "ipython3",
   "version": "3.6.1"
  }
 },
 "nbformat": 4,
 "nbformat_minor": 2
}
